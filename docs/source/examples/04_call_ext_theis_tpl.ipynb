{
  "cells": [
    {
      "cell_type": "code",
      "execution_count": null,
      "metadata": {
        "collapsed": false
      },
      "outputs": [],
      "source": [
        "%matplotlib inline"
      ]
    },
    {
      "cell_type": "markdown",
      "metadata": {},
      "source": [
        "\n# The extended Theis solution for truncated power laws\n\nWe provide an extended theis solution, that incorporates the effectes of a\nheterogeneous conductivity field following a truncated power law.\nIn addition, it incorporates the assumptions of the general radial flow model\nand provides an arbitrary flow dimension.\n\nIn the following this extended solution is compared to the standard theis\nsolution for well flow. You can nicely see, that the extended solution represents\na transition between the theis solutions for the well- and farfield-conductivity.\n\nReference: (not yet published)\n\n"
      ]
    },
    {
      "cell_type": "code",
      "execution_count": null,
      "metadata": {
        "collapsed": false
      },
      "outputs": [],
      "source": [
        "import numpy as np\nfrom matplotlib import pyplot as plt\nfrom anaflow import theis, ext_theis_tpl"
      ]
    },
    {
      "cell_type": "markdown",
      "metadata": {},
      "source": [
        "We use three time steps: 10s, 10min, 10h\n\n"
      ]
    },
    {
      "cell_type": "code",
      "execution_count": null,
      "metadata": {
        "collapsed": false
      },
      "outputs": [],
      "source": [
        "time_labels = [\"10 s\", \"10 min\", \"10 h\"]\ntime = [10, 600, 36000]  # 10s, 10min, 10h"
      ]
    },
    {
      "cell_type": "markdown",
      "metadata": {},
      "source": [
        "Radius from the pumping well should be in [0, 4].\n\n"
      ]
    },
    {
      "cell_type": "code",
      "execution_count": null,
      "metadata": {
        "collapsed": false
      },
      "outputs": [],
      "source": [
        "rad = np.geomspace(0.05, 4)"
      ]
    },
    {
      "cell_type": "markdown",
      "metadata": {},
      "source": [
        "Parameters of heterogeneity, storage and pumping rate.\n\n"
      ]
    },
    {
      "cell_type": "code",
      "execution_count": null,
      "metadata": {
        "collapsed": false
      },
      "outputs": [],
      "source": [
        "var = 0.5  # variance of the log-conductivity\nlen_scale = 20.0  # upper bound for the length scale\nhurst = 0.5  # hurst coefficient\nKG = 1e-4  # the geometric mean of the conductivity\nKH = KG * np.exp(-var / 2)  # the harmonic mean of the conductivity\n\nS = 1e-4  # storage\nrate = -1e-4  # pumping rate"
      ]
    },
    {
      "cell_type": "markdown",
      "metadata": {},
      "source": [
        "Now let's compare the extended Theis TPL solution to the classical solutions\nfor the near and far field values of transmissivity.\n\n"
      ]
    },
    {
      "cell_type": "code",
      "execution_count": null,
      "metadata": {
        "collapsed": false
      },
      "outputs": [],
      "source": [
        "head_KG = theis(time, rad, S, KG, rate)\nhead_KH = theis(time, rad, S, KH, rate)\nhead_ef = ext_theis_tpl(\n    time=time,\n    rad=rad,\n    storage=S,\n    cond_gmean=KG,\n    len_scale=len_scale,\n    hurst=hurst,\n    var=var,\n    rate=rate,\n)\ntime_ticks = []\nfor i, step in enumerate(time):\n    label_TG = \"Theis($K_G$)\" if i == 0 else None\n    label_TH = \"Theis($K_H$)\" if i == 0 else None\n    label_ef = \"extended Theis TPL 2D\" if i == 0 else None\n    plt.plot(\n        rad, head_KG[i], label=label_TG, color=\"C\" + str(i), linestyle=\"--\"\n    )\n    plt.plot(\n        rad, head_KH[i], label=label_TH, color=\"C\" + str(i), linestyle=\":\"\n    )\n    plt.plot(rad, head_ef[i], label=label_ef, color=\"C\" + str(i))\n    time_ticks.append(head_ef[i][-1])\n\nplt.xscale(\"log\")\nplt.xlabel(\"r in [m]\")\nplt.ylabel(\"h in [m]\")\nplt.legend()\nylim = plt.gca().get_ylim()\nplt.gca().set_xlim([rad[0], rad[-1]])\nax2 = plt.gca().twinx()\nax2.set_yticks(time_ticks)\nax2.set_yticklabels(time_labels)\nax2.set_ylim(ylim)\nplt.tight_layout()\nplt.show()"
      ]
    }
  ],
  "metadata": {
    "kernelspec": {
      "display_name": "Python 3",
      "language": "python",
      "name": "python3"
    },
    "language_info": {
      "codemirror_mode": {
        "name": "ipython",
        "version": 3
      },
      "file_extension": ".py",
      "mimetype": "text/x-python",
      "name": "python",
      "nbconvert_exporter": "python",
      "pygments_lexer": "ipython3",
      "version": "3.6.9"
    }
  },
  "nbformat": 4,
  "nbformat_minor": 0
}