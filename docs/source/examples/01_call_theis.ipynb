{
  "cells": [
    {
      "cell_type": "code",
      "execution_count": null,
      "metadata": {
        "collapsed": false
      },
      "outputs": [],
      "source": [
        "%matplotlib inline"
      ]
    },
    {
      "cell_type": "markdown",
      "metadata": {},
      "source": [
        "\n# The Theis solution\n\nIn the following the well known Theis function is called an plotted for three\ndifferent time-steps.\n\nReference: `Theis 1935 <https://doi.org/10.1029/TR016i002p00519>`__\n\n"
      ]
    },
    {
      "cell_type": "code",
      "execution_count": null,
      "metadata": {
        "collapsed": false
      },
      "outputs": [],
      "source": [
        "import numpy as np\nfrom matplotlib import pyplot as plt\nfrom anaflow import theis\n\n\ntime = [10, 100, 1000]\nrad = np.geomspace(0.1, 10)\n\nhead = theis(time=time, rad=rad, storage=1e-4, transmissivity=1e-4, rate=-1e-4)\n\nfor i, step in enumerate(time):\n    plt.plot(rad, head[i], label=\"Theis(t={})\".format(step))\n\nplt.legend()\nplt.tight_layout()\nplt.show()"
      ]
    }
  ],
  "metadata": {
    "kernelspec": {
      "display_name": "Python 3",
      "language": "python",
      "name": "python3"
    },
    "language_info": {
      "codemirror_mode": {
        "name": "ipython",
        "version": 3
      },
      "file_extension": ".py",
      "mimetype": "text/x-python",
      "name": "python",
      "nbconvert_exporter": "python",
      "pygments_lexer": "ipython3",
      "version": "3.6.9"
    }
  },
  "nbformat": 4,
  "nbformat_minor": 0
}