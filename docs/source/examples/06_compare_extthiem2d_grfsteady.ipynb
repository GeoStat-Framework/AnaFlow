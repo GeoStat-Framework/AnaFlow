{
  "cells": [
    {
      "cell_type": "code",
      "execution_count": null,
      "metadata": {
        "collapsed": false
      },
      "outputs": [],
      "source": [
        "%matplotlib inline"
      ]
    },
    {
      "cell_type": "markdown",
      "metadata": {},
      "source": [
        "\n# extended Thiem 2D vs. steady solution for coarse graining transmissivity\n\nThe extended Thiem 2D solutions is the analytical solution of the groundwater\nflow equation for the coarse graining transmissivity for pumping tests.\nTherefore the results should coincide.\n\nReferences:\n\n- `Schneider & Attinger 2008 <https://doi.org/10.1029/2007WR005898>`__\n- `Zech & Attinger 2016 <https://doi.org/10.5194/hess-20-1655-2016>`__\n\n"
      ]
    },
    {
      "cell_type": "code",
      "execution_count": null,
      "metadata": {
        "collapsed": false
      },
      "outputs": [],
      "source": [
        "import numpy as np\nfrom matplotlib import pyplot as plt\nfrom anaflow import ext_thiem_2d, ext_grf_steady\nfrom anaflow.tools.coarse_graining import T_CG\n\n\nrad = np.geomspace(0.05, 4)  # radius from the pumping well in [0, 4]\nr_ref = 2.0  # reference radius\n\nvar = 0.5  # variance of the log-transmissivity\nlen_scale = 10.0  # correlation length of the log-transmissivity\nTG = 1e-4  # the geometric mean of the transmissivity\n\nrate = -1e-4  # pumping rate\n\nhead1 = ext_thiem_2d(rad, r_ref, TG, var, len_scale, rate)\nhead2 = ext_grf_steady(\n    rad, r_ref, T_CG, rate=rate, trans_gmean=TG, var=var, len_scale=len_scale\n)\n\nplt.plot(rad, head1, label=\"Ext Thiem 2D\")\nplt.plot(rad, head2, label=\"grf(T_CG)\", linestyle=\"--\")\n\nplt.xlabel(\"r in [m]\")\nplt.ylabel(\"h in [m]\")\nplt.legend()\nplt.tight_layout()\nplt.show()"
      ]
    }
  ],
  "metadata": {
    "kernelspec": {
      "display_name": "Python 3",
      "language": "python",
      "name": "python3"
    },
    "language_info": {
      "codemirror_mode": {
        "name": "ipython",
        "version": 3
      },
      "file_extension": ".py",
      "mimetype": "text/x-python",
      "name": "python",
      "nbconvert_exporter": "python",
      "pygments_lexer": "ipython3",
      "version": "3.6.9"
    }
  },
  "nbformat": 4,
  "nbformat_minor": 0
}