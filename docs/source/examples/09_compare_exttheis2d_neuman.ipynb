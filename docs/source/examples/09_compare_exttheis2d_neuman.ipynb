{
  "cells": [
    {
      "cell_type": "code",
      "execution_count": null,
      "metadata": {
        "collapsed": false
      },
      "outputs": [],
      "source": [
        "%matplotlib inline"
      ]
    },
    {
      "cell_type": "markdown",
      "metadata": {},
      "source": [
        "\n# extended Theis 2D vs. transient solution for apparent transmissivity from Neuman\n\nBoth, the extended Theis and the Neuman solution, represent an effective transient\ndrawdown in a heterogeneous aquifer.\nIn both cases the heterogeneity is represented by two point statistics,\ncharacterized by mean, variance and length scale of the log transmissivity field.\nTherefore these approaches should lead to similar results.\n\nReferences:\n\n- `Neuman 2004 <https://doi.org/10.1029/2003WR002405>`__\n- `Zech et. al. 2016 <http://dx.doi.org/10.1002/2015WR018509>`__\n\n"
      ]
    },
    {
      "cell_type": "code",
      "execution_count": null,
      "metadata": {
        "collapsed": false
      },
      "outputs": [],
      "source": [
        "import numpy as np\nfrom matplotlib import pyplot as plt\nfrom anaflow import ext_theis_2d, neuman2004\n\n\ntime_labels = [\"10 s\", \"10 min\", \"10 h\"]\ntime = [10, 600, 36000]  # 10s, 10min, 10h\n\nrad = np.geomspace(0.05, 4)  # radius from the pumping well in [0, 4]\n\nTG = 1e-4  # the geometric mean of the transmissivity\nvar = 0.5  # correlation length of the log-transmissivity\nlen_scale = 10.0  # variance of the log-transmissivity\n\nS = 1e-4  # storativity\nrate = -1e-4  # pumping rate\n\nhead1 = ext_theis_2d(time, rad, S, TG, var, len_scale, rate)\nhead2 = neuman2004(time, rad, S, TG, var, len_scale, rate)\ntime_ticks = []\nfor i, step in enumerate(time):\n    label1 = \"extended Theis 2D\" if i == 0 else None\n    label2 = \"Transient Neuman 2004\" if i == 0 else None\n    plt.plot(rad, head1[i], label=label1, color=\"C\" + str(i))\n    plt.plot(rad, head2[i], label=label2, color=\"C\" + str(i), linestyle=\"--\")\n    time_ticks.append(head1[i][-1])\n\nplt.title(\n    \"$T_G={}$, $\\sigma^2={}$, $\\ell={}$, $S={}$\".format(TG, var, len_scale, S)\n)\nplt.xlabel(\"r in [m]\")\nplt.ylabel(\"h in [m]\")\nplt.legend()\nylim = plt.gca().get_ylim()\nplt.gca().set_xlim([0, rad[-1]])\nax2 = plt.gca().twinx()\nax2.set_yticks(time_ticks)\nax2.set_yticklabels(time_labels)\nax2.set_ylim(ylim)\nplt.tight_layout()\nplt.show()"
      ]
    }
  ],
  "metadata": {
    "kernelspec": {
      "display_name": "Python 3",
      "language": "python",
      "name": "python3"
    },
    "language_info": {
      "codemirror_mode": {
        "name": "ipython",
        "version": 3
      },
      "file_extension": ".py",
      "mimetype": "text/x-python",
      "name": "python",
      "nbconvert_exporter": "python",
      "pygments_lexer": "ipython3",
      "version": "3.6.9"
    }
  },
  "nbformat": 4,
  "nbformat_minor": 0
}