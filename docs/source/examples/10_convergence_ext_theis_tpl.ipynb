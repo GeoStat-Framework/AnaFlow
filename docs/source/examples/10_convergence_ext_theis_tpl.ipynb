{
  "cells": [
    {
      "cell_type": "code",
      "execution_count": null,
      "metadata": {
        "collapsed": false
      },
      "outputs": [],
      "source": [
        "%matplotlib inline"
      ]
    },
    {
      "cell_type": "markdown",
      "metadata": {},
      "source": [
        "\n# Convergence of the extended Theis solutions for truncated power laws\n\nHere we set an outer boundary to the transient solution, so this condition\ncoincides with the references head of the steady solution.\n\nReference: (not yet published)\n\n"
      ]
    },
    {
      "cell_type": "code",
      "execution_count": null,
      "metadata": {
        "collapsed": false
      },
      "outputs": [],
      "source": [
        "import numpy as np\nfrom matplotlib import pyplot as plt\nfrom anaflow import ext_theis_tpl, ext_thiem_tpl\n\ntime = 1e4  # time point for steady state\nrad = np.geomspace(0.1, 10)  # radius from the pumping well in [0, 4]\nr_ref = 10.0  # reference radius\n\nKG = 1e-4  # the geometric mean of the transmissivity\nlen_scale = 5.0  # correlation length of the log-transmissivity\nhurst = 0.5  # hurst coefficient\nvar = 0.5  # variance of the log-transmissivity\ndim = 1.5  # using a fractional dimension\n\nS = 1e-4  # storativity\nrate = -1e-4  # pumping rate\n\nhead1 = ext_thiem_tpl(\n    rad, r_ref, KG, len_scale, hurst, var, dim=dim, rate=rate\n)\nhead2 = ext_theis_tpl(\n    time, rad, S, KG, len_scale, hurst, var, dim=dim, rate=rate, r_bound=r_ref\n)\n\nplt.plot(rad, head1, label=\"Ext Thiem TPL\")\nplt.plot(rad, head2, label=\"Ext Theis TPL (t={})\".format(time), linestyle=\"--\")\n\nplt.xlabel(\"r in [m]\")\nplt.ylabel(\"h in [m]\")\nplt.legend()\nplt.tight_layout()\nplt.show()"
      ]
    }
  ],
  "metadata": {
    "kernelspec": {
      "display_name": "Python 3",
      "language": "python",
      "name": "python3"
    },
    "language_info": {
      "codemirror_mode": {
        "name": "ipython",
        "version": 3
      },
      "file_extension": ".py",
      "mimetype": "text/x-python",
      "name": "python",
      "nbconvert_exporter": "python",
      "pygments_lexer": "ipython3",
      "version": "3.6.9"
    }
  },
  "nbformat": 4,
  "nbformat_minor": 0
}