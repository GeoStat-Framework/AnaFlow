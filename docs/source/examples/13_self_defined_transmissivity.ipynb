{
  "cells": [
    {
      "cell_type": "code",
      "execution_count": null,
      "metadata": {
        "collapsed": false
      },
      "outputs": [],
      "source": [
        "%matplotlib inline"
      ]
    },
    {
      "cell_type": "markdown",
      "metadata": {},
      "source": [
        "\n# Self defined radial conductivity or transmissivity\n\nAll heterogeneous solutions of AnaFlow are derived by calculating an equivalent\nstep function of a radial symmetric transmissivity resp. conductivity function.\n\nThe following code shows how to apply this workflow to a self defined\ntransmissivity function. The function in use represents a linear transition\nfrom a local to a far field value of transmissivity within a given range.\n\nThe step function is calculated as the harmonic mean within given bounds,\nsince the groundwater flow under a pumping condition is perpendicular to the\ndifferent annular regions of transmissivity.\n\nReference: (not yet published)\n\n"
      ]
    },
    {
      "cell_type": "code",
      "execution_count": null,
      "metadata": {
        "collapsed": false
      },
      "outputs": [],
      "source": [
        "import numpy as np\nfrom matplotlib import pyplot as plt\nimport matplotlib.gridspec as gridspec\nfrom anaflow import ext_grf, ext_grf_steady\nfrom anaflow.tools import specialrange_cut, annular_hmean, step_f\n\n\ndef cond(rad, K_far, K_well, len_scale):\n    \"\"\"Conductivity with linear increase from K_well to K_far.\"\"\"\n    return np.minimum(np.abs(rad) / len_scale, 1.0) * (K_far - K_well) + K_well\n\n\ntime_labels = [\"10 s\", \"100 s\", \"1000 s\"]\ntime = [10, 100, 1000]\nrad = np.geomspace(0.1, 6)\n\nK_well = 1e-5\nK_far = 1e-4\nlen_scale = 5.0\ndim = 1.5\n\nrate = -1e-4\nS = 1e-4\n\ncut_off = len_scale\nparts = 30\nr_well = 0.0\nr_bound = 50.0\n\n# calculate a disk-distribution of \"trans\" by calculating harmonic means\nR_part = specialrange_cut(r_well, r_bound, parts, cut_off)\nK_part = annular_hmean(\n    cond, R_part, ann_dim=dim, K_far=K_far, K_well=K_well, len_scale=len_scale\n)\nS_part = np.full_like(K_part, S)\n# calculate transient and steady heads\nhead1 = ext_grf(time, rad, S_part, K_part, R_part, dim=dim, rate=rate)\nhead2 = ext_grf_steady(\n    rad,\n    r_bound,\n    cond,\n    dim=dim,\n    rate=-1e-4,\n    K_far=K_far,\n    K_well=K_well,\n    len_scale=len_scale,\n)\n\n# plotting\ngs = gridspec.GridSpec(2, 1, height_ratios=[1, 3])\nax1 = plt.subplot(gs[0])\nax2 = plt.subplot(gs[1], sharex=ax1)\ntime_ticks = []\nfor i, step in enumerate(time):\n    label = \"Transient\" if i == 0 else None\n    ax2.plot(rad, head1[i], label=label, color=\"C\" + str(i))\n    time_ticks.append(head1[i][-1])\n\nax2.plot(rad, head2, label=\"Steady\", color=\"k\", linestyle=\":\")\n\nrad_lin = np.linspace(rad[0], rad[-1], 1000)\nax1.plot(rad_lin, step_f(rad_lin, R_part, K_part), label=\"step Conductivity\")\nax1.plot(\n    rad_lin, cond(rad_lin, K_far, K_well, len_scale), label=\"Conductivity\"\n)\nax1.set_yticks([K_well, K_far])\nax1.set_ylabel(r\"$K$ in $[\\frac{m}{s}]$\")\nplt.setp(ax1.get_xticklabels(), visible=False)\nax1.legend()\nax2.set_xlabel(\"r in [m]\")\nax2.set_ylabel(\"h in [m]\")\nax2.legend()\nax2.set_xlim([0, rad[-1]])\nax3 = ax2.twinx()\nax3.set_yticks(time_ticks)\nax3.set_yticklabels(time_labels)\nax3.set_ylim(ax2.get_ylim())\n\nplt.tight_layout()\nplt.show()"
      ]
    }
  ],
  "metadata": {
    "kernelspec": {
      "display_name": "Python 3",
      "language": "python",
      "name": "python3"
    },
    "language_info": {
      "codemirror_mode": {
        "name": "ipython",
        "version": 3
      },
      "file_extension": ".py",
      "mimetype": "text/x-python",
      "name": "python",
      "nbconvert_exporter": "python",
      "pygments_lexer": "ipython3",
      "version": "3.6.9"
    }
  },
  "nbformat": 4,
  "nbformat_minor": 0
}