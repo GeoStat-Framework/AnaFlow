{
  "cells": [
    {
      "cell_type": "code",
      "execution_count": null,
      "metadata": {
        "collapsed": false
      },
      "outputs": [],
      "source": [
        "%matplotlib inline"
      ]
    },
    {
      "cell_type": "markdown",
      "metadata": {},
      "source": [
        "\n# Quasi steady convergence\n\nThe quasi steady is reached, when the radial shape of the drawdown in not\nchanging anymore.\n\n"
      ]
    },
    {
      "cell_type": "code",
      "execution_count": null,
      "metadata": {
        "collapsed": false
      },
      "outputs": [],
      "source": [
        "import numpy as np\nfrom matplotlib import pyplot as plt\nfrom anaflow import theis, thiem\n\n\ntime = [10, 100, 1000]\nrad = np.geomspace(0.1, 10)\nr_ref = 10.0\n\nhead_ref = theis(\n    time,\n    np.full_like(rad, r_ref),\n    storage=1e-3,\n    transmissivity=1e-4,\n    rate=-1e-4,\n)\nhead1 = (\n    theis(time, rad, storage=1e-3, transmissivity=1e-4, rate=-1e-4) - head_ref\n)\nhead2 = theis(\n    time, rad, storage=1e-3, transmissivity=1e-4, rate=-1e-4, r_bound=r_ref\n)\nhead3 = thiem(rad, r_ref, transmissivity=1e-4, rate=-1e-4)\n\nfor i, step in enumerate(time):\n    label_1 = \"Theis quasi steady\" if i == 0 else None\n    label_2 = \"Theis bounded\" if i == 0 else None\n    plt.plot(rad, head1[i], label=label_1, color=\"C\" + str(i), linestyle=\"--\")\n    plt.plot(rad, head2[i], label=label_2, color=\"C\" + str(i))\n\nplt.plot(rad, head3, label=\"Thiem\", color=\"k\", linestyle=\":\")\n\nplt.xlabel(\"r in [m]\")\nplt.ylabel(\"h in [m]\")\nplt.legend()\nplt.tight_layout()\nplt.show()"
      ]
    }
  ],
  "metadata": {
    "kernelspec": {
      "display_name": "Python 3",
      "language": "python",
      "name": "python3"
    },
    "language_info": {
      "codemirror_mode": {
        "name": "ipython",
        "version": 3
      },
      "file_extension": ".py",
      "mimetype": "text/x-python",
      "name": "python",
      "nbconvert_exporter": "python",
      "pygments_lexer": "ipython3",
      "version": "3.6.9"
    }
  },
  "nbformat": 4,
  "nbformat_minor": 0
}