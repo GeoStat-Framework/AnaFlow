{
  "cells": [
    {
      "cell_type": "code",
      "execution_count": null,
      "metadata": {
        "collapsed": false
      },
      "outputs": [],
      "source": [
        "%matplotlib inline"
      ]
    },
    {
      "cell_type": "markdown",
      "metadata": {},
      "source": [
        "\n# extended Thiem 2D vs. steady solution for apparent transmissivity from Neuman\n\nBoth, the extended Thiem and the Neuman solution, represent an effective steady\ndrawdown in a heterogeneous aquifer.\nIn both cases the heterogeneity is represented by two point statistics,\ncharacterized by mean, variance and length scale of the log transmissivity field.\nTherefore these approaches should lead to similar results.\n\nReferences:\n\n- `Neuman 2004 <https://doi.org/10.1029/2003WR002405>`__\n- `Zech & Attinger 2016 <https://doi.org/10.5194/hess-20-1655-2016>`__\n\n"
      ]
    },
    {
      "cell_type": "code",
      "execution_count": null,
      "metadata": {
        "collapsed": false
      },
      "outputs": [],
      "source": [
        "import numpy as np\nfrom matplotlib import pyplot as plt\nfrom anaflow import ext_thiem_2d, neuman2004_steady\n\n\nrad = np.geomspace(0.05, 4)  # radius from the pumping well in [0, 4]\nr_ref = 30.0  # reference radius\n\nvar = 0.5  # variance of the log-transmissivity\nlen_scale = 10.0  # correlation length of the log-transmissivity\nTG = 1e-4  # the geometric mean of the transmissivity\n\nrate = -1e-4  # pumping rate\n\nhead1 = ext_thiem_2d(rad, r_ref, TG, var, len_scale, rate)\nhead2 = neuman2004_steady(rad, r_ref, TG, var, len_scale, rate)\n\nplt.plot(rad, head1, label=\"extended Thiem 2D\")\nplt.plot(rad, head2, label=\"Steady Neuman 2004\", linestyle=\"--\")\n\nplt.xlabel(\"r in [m]\")\nplt.ylabel(\"h in [m]\")\nplt.legend()\nplt.tight_layout()\nplt.show()"
      ]
    }
  ],
  "metadata": {
    "kernelspec": {
      "display_name": "Python 3",
      "language": "python",
      "name": "python3"
    },
    "language_info": {
      "codemirror_mode": {
        "name": "ipython",
        "version": 3
      },
      "file_extension": ".py",
      "mimetype": "text/x-python",
      "name": "python",
      "nbconvert_exporter": "python",
      "pygments_lexer": "ipython3",
      "version": "3.6.9"
    }
  },
  "nbformat": 4,
  "nbformat_minor": 0
}