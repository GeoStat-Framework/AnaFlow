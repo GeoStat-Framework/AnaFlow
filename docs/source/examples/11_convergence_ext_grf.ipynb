{
  "cells": [
    {
      "cell_type": "code",
      "execution_count": null,
      "metadata": {
        "collapsed": false
      },
      "outputs": [],
      "source": [
        "%matplotlib inline"
      ]
    },
    {
      "cell_type": "markdown",
      "metadata": {},
      "source": [
        "\n# Convergence of the general radial flow model (GRF)\n\nThe GRF model introduces an arbitrary flow dimension and was presented to\nanalyze groundwater flow in rock formations.\nIn the following we compare the bounded transient solution for late times,\nthe unbounded quasi steady solution and the steady state.\n\nReference: `Barker 1988 <https://doi.org/10.1029/WR024i010p01796>`__\n\n"
      ]
    },
    {
      "cell_type": "code",
      "execution_count": null,
      "metadata": {
        "collapsed": false
      },
      "outputs": [],
      "source": [
        "import numpy as np\nfrom matplotlib import pyplot as plt\nfrom anaflow import ext_grf, ext_grf_steady, grf\n\ntime = 1e4  # time point for steady state\nrad = np.geomspace(0.1, 10)  # radius from the pumping well in [0, 4]\nr_ref = 10.0  # reference radius\n\nK = 1e-4  # the geometric mean of the transmissivity\ndim = 1.5  # using a fractional dimension\n\nrate = -1e-4  # pumping rate\n\nhead1 = ext_grf_steady(rad, r_ref, K, dim=dim, rate=rate)\nhead2 = ext_grf(time, rad, [1e-4], [K], [0, r_ref], dim=dim, rate=rate)\nhead3 = grf(time, rad, 1e-4, K, dim=dim, rate=rate)\nhead3 -= head3[-1]  # quasi-steady\n\nplt.plot(rad, head1, label=\"Ext GRF steady\")\nplt.plot(rad, head2, label=\"Ext GRF (t={})\".format(time), linestyle=\"--\")\nplt.plot(\n    rad, head3, label=\"GRF quasi-steady (t={})\".format(time), linestyle=\":\"\n)\n\nplt.xlabel(\"r in [m]\")\nplt.ylabel(\"h in [m]\")\nplt.legend()\nplt.tight_layout()\nplt.show()"
      ]
    }
  ],
  "metadata": {
    "kernelspec": {
      "display_name": "Python 3",
      "language": "python",
      "name": "python3"
    },
    "language_info": {
      "codemirror_mode": {
        "name": "ipython",
        "version": 3
      },
      "file_extension": ".py",
      "mimetype": "text/x-python",
      "name": "python",
      "nbconvert_exporter": "python",
      "pygments_lexer": "ipython3",
      "version": "3.6.9"
    }
  },
  "nbformat": 4,
  "nbformat_minor": 0
}