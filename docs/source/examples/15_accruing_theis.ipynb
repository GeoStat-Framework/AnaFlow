{
  "cells": [
    {
      "cell_type": "code",
      "execution_count": null,
      "metadata": {
        "collapsed": false
      },
      "outputs": [],
      "source": [
        "%matplotlib inline"
      ]
    },
    {
      "cell_type": "markdown",
      "metadata": {},
      "source": [
        "\n# Accruing pumping rate\n\nAnaFlow provides different representations for the pumping condition.\nOne is an accruing pumping rate represented by the error function.\nThis could be interpreted as that the water pump needs a certain time to\nreach its constant rate state.\n\n"
      ]
    },
    {
      "cell_type": "code",
      "execution_count": null,
      "metadata": {
        "collapsed": false
      },
      "outputs": [],
      "source": [
        "import numpy as np\nfrom scipy.special import erf\nfrom matplotlib import pyplot as plt\nimport matplotlib.gridspec as gridspec\nfrom anaflow import theis\n\n\ntime = np.geomspace(1, 600)\nrad = [1, 5]\n\n# Q(t) = Q * erf(t / a)\na = 120\nlap_kwargs = {\"cond\": 4, \"cond_kw\": {\"a\": a}}\n\nhead1 = theis(\n    time=time,\n    rad=rad,\n    storage=1e-4,\n    transmissivity=1e-4,\n    rate=-1e-4,\n    lap_kwargs=lap_kwargs,\n)\nhead2 = theis(\n    time=time,\n    rad=rad,\n    storage=1e-4,\n    transmissivity=1e-4,\n    rate=-1e-4,\n)\ngs = gridspec.GridSpec(2, 1, height_ratios=[1, 3])\nax1 = plt.subplot(gs[0])\nax2 = plt.subplot(gs[1], sharex=ax1)\n\nfor i, step in enumerate(rad):\n    ax2.plot(\n        time,\n        head1[:, i],\n        color=\"C\" + str(i),\n        label=\"accruing Theis(r={})\".format(step),\n    )\n    ax2.plot(\n        time,\n        head2[:, i],\n        color=\"C\" + str(i),\n        label=\"constant Theis(r={})\".format(step),\n        linestyle=\"--\",\n    )\nax1.plot(time, 1e-4 * erf(time / a), label=\"accruing Q\")\nax2.set_xlabel(\"t in [s]\")\nax2.set_ylabel(\"h in [m]\")\nax1.set_ylabel(r\"|Q| in [$\\frac{m^3}{s}$]\")\nax1.legend()\nax2.legend()\nplt.tight_layout()\nplt.show()"
      ]
    }
  ],
  "metadata": {
    "kernelspec": {
      "display_name": "Python 3",
      "language": "python",
      "name": "python3"
    },
    "language_info": {
      "codemirror_mode": {
        "name": "ipython",
        "version": 3
      },
      "file_extension": ".py",
      "mimetype": "text/x-python",
      "name": "python",
      "nbconvert_exporter": "python",
      "pygments_lexer": "ipython3",
      "version": "3.6.9"
    }
  },
  "nbformat": 4,
  "nbformat_minor": 0
}