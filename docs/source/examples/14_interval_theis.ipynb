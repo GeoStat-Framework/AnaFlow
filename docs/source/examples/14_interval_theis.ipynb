{
  "cells": [
    {
      "cell_type": "code",
      "execution_count": null,
      "metadata": {
        "collapsed": false
      },
      "outputs": [],
      "source": [
        "%matplotlib inline"
      ]
    },
    {
      "cell_type": "markdown",
      "metadata": {},
      "source": [
        "\n# Interval pumping\n\nAnother case often discussed in literatur is interval pumping, where\nthe pumping is just done in a certain time frame.\n\nUnfortunatly the Stehfest algorithm is not suitable for this kind of solution,\nwhich is demonstrated in the following script.\n\n"
      ]
    },
    {
      "cell_type": "code",
      "execution_count": null,
      "metadata": {
        "collapsed": false
      },
      "outputs": [],
      "source": [
        "import numpy as np\nfrom matplotlib import pyplot as plt\nfrom anaflow import theis\n\n\ntime = np.linspace(10, 200)\nrad = [1, 5]\n\n# Q(t) = Q * characteristic([0, a])\nlap_kwargs = {\"cond\": 3, \"cond_kw\": {\"a\": 100}}\n\nhead = theis(\n    time=time,\n    rad=rad,\n    storage=1e-4,\n    transmissivity=1e-4,\n    rate=-1e-4,\n    lap_kwargs=lap_kwargs,\n)\n\nfor i, step in enumerate(rad):\n    plt.plot(time, head[:, i], label=\"Theis(r={})\".format(step))\n\nplt.title(\"The Stehfest algorithm is not suitable for this!\")\nplt.legend()\nplt.tight_layout()\nplt.show()"
      ]
    }
  ],
  "metadata": {
    "kernelspec": {
      "display_name": "Python 3",
      "language": "python",
      "name": "python3"
    },
    "language_info": {
      "codemirror_mode": {
        "name": "ipython",
        "version": 3
      },
      "file_extension": ".py",
      "mimetype": "text/x-python",
      "name": "python",
      "nbconvert_exporter": "python",
      "pygments_lexer": "ipython3",
      "version": "3.6.9"
    }
  },
  "nbformat": 4,
  "nbformat_minor": 0
}