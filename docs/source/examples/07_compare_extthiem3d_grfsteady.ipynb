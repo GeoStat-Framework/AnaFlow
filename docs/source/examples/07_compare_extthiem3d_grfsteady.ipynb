{
  "cells": [
    {
      "cell_type": "code",
      "execution_count": null,
      "metadata": {
        "collapsed": false
      },
      "outputs": [],
      "source": [
        "%matplotlib inline"
      ]
    },
    {
      "cell_type": "markdown",
      "metadata": {},
      "source": [
        "\n# extended Thiem 3D vs. steady solution for coarse graining conductivity\n\nThe extended Thiem 3D solutions is the analytical solution of the groundwater\nflow equation for the coarse graining conductivity for pumping tests.\nTherefore the results should coincide.\n\nReference: `Zech et. al. 2012 <https://doi.org/10.1029/2012WR011852>`__\n\n"
      ]
    },
    {
      "cell_type": "code",
      "execution_count": null,
      "metadata": {
        "collapsed": false
      },
      "outputs": [],
      "source": [
        "import numpy as np\nfrom matplotlib import pyplot as plt\nfrom anaflow import ext_thiem_3d, ext_grf_steady\nfrom anaflow.tools.coarse_graining import K_CG\n\n\nrad = np.geomspace(0.05, 4)  # radius from the pumping well in [0, 4]\nr_ref = 2.0  # reference radius\n\nvar = 0.5  # variance of the log-transmissivity\nlen_scale = 10.0  # correlation length of the log-transmissivity\nKG = 1e-4  # the geometric mean of the transmissivity\nanis = 0.7  # aniso ratio\n\nrate = -1e-4  # pumping rate\n\nhead1 = ext_thiem_3d(rad, r_ref, KG, var, len_scale, anis, 1, rate)\nhead2 = ext_grf_steady(\n    rad,\n    r_ref,\n    K_CG,\n    rate=rate,\n    cond_gmean=KG,\n    var=var,\n    len_scale=len_scale,\n    anis=anis,\n)\n\nplt.plot(rad, head1, label=\"Ext Thiem 3D\")\nplt.plot(rad, head2, label=\"grf(K_CG)\", linestyle=\"--\")\n\nplt.xlabel(\"r in [m]\")\nplt.ylabel(\"h in [m]\")\nplt.legend()\nplt.tight_layout()\nplt.show()"
      ]
    }
  ],
  "metadata": {
    "kernelspec": {
      "display_name": "Python 3",
      "language": "python",
      "name": "python3"
    },
    "language_info": {
      "codemirror_mode": {
        "name": "ipython",
        "version": 3
      },
      "file_extension": ".py",
      "mimetype": "text/x-python",
      "name": "python",
      "nbconvert_exporter": "python",
      "pygments_lexer": "ipython3",
      "version": "3.6.9"
    }
  },
  "nbformat": 4,
  "nbformat_minor": 0
}